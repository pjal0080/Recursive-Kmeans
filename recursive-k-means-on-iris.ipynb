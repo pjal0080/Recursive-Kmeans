{
 "cells": [
  {
   "cell_type": "code",
   "execution_count": 1,
   "metadata": {
    "_cell_guid": "b1076dfc-b9ad-4769-8c92-a6c4dae69d19",
    "_uuid": "8f2839f25d086af736a60e9eeb907d3b93b6e0e5"
   },
   "outputs": [
    {
     "name": "stdout",
     "output_type": "stream",
     "text": [
      "/kaggle/input/irisnew/label.csv\n",
      "/kaggle/input/irisnew/iris.csv\n"
     ]
    }
   ],
   "source": [
    "# This Python 3 environment comes with many helpful analytics libraries installed\n",
    "# It is defined by the kaggle/python docker image: https://github.com/kaggle/docker-python\n",
    "# For example, here's several helpful packages to load in \n",
    "\n",
    "import numpy as np # linear algebra\n",
    "import pandas as pd # data processing, CSV file I/O (e.g. pd.read_csv)\n",
    "\n",
    "# Input data files are available in the \"../input/\" directory.\n",
    "# For example, running this (by clicking run or pressing Shift+Enter) will list all files under the input directory\n",
    "\n",
    "import os\n",
    "for dirname, _, filenames in os.walk('/kaggle/input'):\n",
    "    for filename in filenames:\n",
    "        print(os.path.join(dirname, filename))\n",
    "\n",
    "# Any results you write to the current directory are saved as output."
   ]
  },
  {
   "cell_type": "code",
   "execution_count": 2,
   "metadata": {
    "_cell_guid": "79c7e3d0-c299-4dcb-8224-4455121ee9b0",
    "_uuid": "d629ff2d2480ee46fbb7e2d37f6b5fab8052498a"
   },
   "outputs": [],
   "source": [
    "import math\n",
    "import pandas as pd\n",
    "import numpy as np\n",
    "import matplotlib.pyplot as plt\n",
    "from sklearn.cluster import KMeans\n",
    "from sklearn.preprocessing import LabelEncoder\n",
    "import seaborn as sns"
   ]
  },
  {
   "cell_type": "code",
   "execution_count": 3,
   "metadata": {},
   "outputs": [
    {
     "data": {
      "text/html": [
       "<div>\n",
       "<style scoped>\n",
       "    .dataframe tbody tr th:only-of-type {\n",
       "        vertical-align: middle;\n",
       "    }\n",
       "\n",
       "    .dataframe tbody tr th {\n",
       "        vertical-align: top;\n",
       "    }\n",
       "\n",
       "    .dataframe thead th {\n",
       "        text-align: right;\n",
       "    }\n",
       "</style>\n",
       "<table border=\"1\" class=\"dataframe\">\n",
       "  <thead>\n",
       "    <tr style=\"text-align: right;\">\n",
       "      <th></th>\n",
       "      <th>a</th>\n",
       "      <th>b</th>\n",
       "      <th>c</th>\n",
       "      <th>d</th>\n",
       "      <th>Label</th>\n",
       "    </tr>\n",
       "  </thead>\n",
       "  <tbody>\n",
       "    <tr>\n",
       "      <th>count</th>\n",
       "      <td>150.000000</td>\n",
       "      <td>150.000000</td>\n",
       "      <td>150.000000</td>\n",
       "      <td>150.000000</td>\n",
       "      <td>150.000000</td>\n",
       "    </tr>\n",
       "    <tr>\n",
       "      <th>mean</th>\n",
       "      <td>5.843333</td>\n",
       "      <td>3.054000</td>\n",
       "      <td>3.758667</td>\n",
       "      <td>1.198667</td>\n",
       "      <td>0.546667</td>\n",
       "    </tr>\n",
       "    <tr>\n",
       "      <th>std</th>\n",
       "      <td>0.828066</td>\n",
       "      <td>0.433594</td>\n",
       "      <td>1.764420</td>\n",
       "      <td>0.763161</td>\n",
       "      <td>1.096588</td>\n",
       "    </tr>\n",
       "    <tr>\n",
       "      <th>min</th>\n",
       "      <td>4.300000</td>\n",
       "      <td>2.000000</td>\n",
       "      <td>1.000000</td>\n",
       "      <td>0.100000</td>\n",
       "      <td>-1.000000</td>\n",
       "    </tr>\n",
       "    <tr>\n",
       "      <th>25%</th>\n",
       "      <td>5.100000</td>\n",
       "      <td>2.800000</td>\n",
       "      <td>1.600000</td>\n",
       "      <td>0.300000</td>\n",
       "      <td>0.000000</td>\n",
       "    </tr>\n",
       "    <tr>\n",
       "      <th>50%</th>\n",
       "      <td>5.800000</td>\n",
       "      <td>3.000000</td>\n",
       "      <td>4.350000</td>\n",
       "      <td>1.300000</td>\n",
       "      <td>1.000000</td>\n",
       "    </tr>\n",
       "    <tr>\n",
       "      <th>75%</th>\n",
       "      <td>6.400000</td>\n",
       "      <td>3.300000</td>\n",
       "      <td>5.100000</td>\n",
       "      <td>1.800000</td>\n",
       "      <td>1.750000</td>\n",
       "    </tr>\n",
       "    <tr>\n",
       "      <th>max</th>\n",
       "      <td>7.900000</td>\n",
       "      <td>4.400000</td>\n",
       "      <td>6.900000</td>\n",
       "      <td>2.500000</td>\n",
       "      <td>2.000000</td>\n",
       "    </tr>\n",
       "  </tbody>\n",
       "</table>\n",
       "</div>"
      ],
      "text/plain": [
       "                a           b           c           d       Label\n",
       "count  150.000000  150.000000  150.000000  150.000000  150.000000\n",
       "mean     5.843333    3.054000    3.758667    1.198667    0.546667\n",
       "std      0.828066    0.433594    1.764420    0.763161    1.096588\n",
       "min      4.300000    2.000000    1.000000    0.100000   -1.000000\n",
       "25%      5.100000    2.800000    1.600000    0.300000    0.000000\n",
       "50%      5.800000    3.000000    4.350000    1.300000    1.000000\n",
       "75%      6.400000    3.300000    5.100000    1.800000    1.750000\n",
       "max      7.900000    4.400000    6.900000    2.500000    2.000000"
      ]
     },
     "execution_count": 3,
     "metadata": {},
     "output_type": "execute_result"
    }
   ],
   "source": [
    "df1 = pd.read_csv(\"../input//irisnew/iris.csv\")\n",
    "df2 = pd.read_csv(\"../input/irisnew/label.csv\")\n",
    "df = pd.concat([df1,df2],axis = 1)\n",
    "\n",
    "df.describe()"
   ]
  },
  {
   "cell_type": "code",
   "execution_count": 4,
   "metadata": {},
   "outputs": [
    {
     "data": {
      "image/png": "[encoded data removed]",
      "text/plain": [
       "<Figure size 432x288 with 2 Axes>"
      ]
     },
     "metadata": {
      "needs_background": "light"
     },
     "output_type": "display_data"
    }
   ],
   "source": [
    "df = df.drop(['label'], axis = 1)\n",
    "corrm = df.corr()\n",
    "sns.heatmap(corrm,annot = True,vmax = .8, square = True)\n",
    "\n",
    "X = df.iloc[:,[0,2,3]].values\n",
    "y = df.iloc[:,-1].values"
   ]
  },
  {
   "cell_type": "code",
   "execution_count": 5,
   "metadata": {},
   "outputs": [],
   "source": [
    "def dist_func(x,y):\n",
    "    \n",
    "    ans = 0\n",
    "    for i in range(len(x)-1):\n",
    "        ans += pow(x[i] - y[i],2)\n",
    "    \n",
    "    \n",
    "    return math.sqrt(ans)"
   ]
  },
  {
   "cell_type": "code",
   "execution_count": 6,
   "metadata": {},
   "outputs": [],
   "source": [
    "def kmeans(ds,centroid,k):\n",
    "    \n",
    "    max_iter = 100\n",
    "    \n",
    "    for i in range(max_iter):\n",
    "        \n",
    "        d = {}\n",
    "        for i in range(k):\n",
    "            d[i]=[]\n",
    "            \n",
    "        d1 = {}\n",
    "        for i in range(k):\n",
    "            d1[i]=[]\n",
    "            \n",
    "        for j in range(len(ds)):\n",
    "            l= []\n",
    "                \n",
    "            for m in centroid:\n",
    "                \n",
    "                l.append(dist_func(m,ds[j]))\n",
    "                \n",
    "            d[l.index(min(l))].append(ds[j])\n",
    "            \n",
    "            \n",
    "        \n",
    "        for z in d:\n",
    "            centroid[z] = np.average(d[z],axis = 0)\n",
    "            \n",
    "        \n",
    "        \n",
    "    return d"
   ]
  },
  {
   "cell_type": "code",
   "execution_count": 7,
   "metadata": {},
   "outputs": [],
   "source": [
    "def rec_kmeans(ds):\n",
    "    \n",
    "    \n",
    "    li = set()\n",
    "        \n",
    "    for j in ds:\n",
    "        \n",
    "        if(j[3] != -1):\n",
    "            li.add(j[3])\n",
    "        \n",
    "        \n",
    "    \n",
    "    if(len(li) == 1):\n",
    "        final_clusters.append(ds)\n",
    "        cluster_label.append(li)\n",
    "        return\n",
    "\n",
    "    \n",
    "    if(len(li) == 0):\n",
    "        final_clusters.append(ds)\n",
    "        cluster_label.append(-1)\n",
    "        return\n",
    "    \n",
    "    \n",
    "    \n",
    "    newk = len(li)\n",
    "    centroid = []\n",
    "    \n",
    "    for i in range(newk):\n",
    "        centroid.append(ds[i])\n",
    "    \n",
    "    r = kmeans(ds,centroid,newk)\n",
    "    \n",
    "    for z in r:\n",
    "        z1 = r[z]\n",
    "        rec_kmeans(z1)"
   ]
  },
  {
   "cell_type": "code",
   "execution_count": 8,
   "metadata": {},
   "outputs": [],
   "source": [
    "k = 3\n",
    "\n",
    "X = pd.DataFrame(X)\n",
    "y = pd.DataFrame(y)\n",
    "X1 = pd.concat([X,y],axis = 1)\n",
    "\n",
    "X_training = X1.iloc[:,0:4].values\n",
    "\n",
    "final_clusters = []\n",
    "cluster_label = []\n",
    "centr = []\n",
    "for i in range(k):\n",
    "        centr.append(X_training[i])\n",
    "\n",
    "\n",
    "#initial Kmeans call  \n",
    "res = kmeans(X_training,centr,k)\n"
   ]
  },
  {
   "cell_type": "code",
   "execution_count": 9,
   "metadata": {},
   "outputs": [
    {
     "name": "stdout",
     "output_type": "stream",
     "text": [
      "2\n",
      "2\n",
      "1\n"
     ]
    },
    {
     "data": {
      "text/plain": [
       "Text(0, 0.5, 'No of class labels')"
      ]
     },
     "execution_count": 9,
     "metadata": {},
     "output_type": "execute_result"
    },
    {
     "data": {
      "image/png": "[encoded data removed]",
      "text/plain": [
       "<Figure size 432x288 with 1 Axes>"
      ]
     },
     "metadata": {
      "needs_background": "light"
     },
     "output_type": "display_data"
    }
   ],
   "source": [
    "dt = [\"cluster1\",\"cluster2\",\"cluster3\"]\n",
    "dty = []\n",
    "for i in res:\n",
    "    lbl = set()\n",
    "    for j in res[i]:\n",
    "        if(j[3] != -1):\n",
    "            lbl.add(int(j[3]))\n",
    "    \n",
    "    print(len(lbl))       \n",
    "    dty.append(len(lbl))\n",
    "\n",
    "plt.bar(dt,dty)        \n",
    "plt.ylabel(\"No of class labels\")"
   ]
  },
  {
   "cell_type": "code",
   "execution_count": 10,
   "metadata": {},
   "outputs": [
    {
     "data": {
      "image/png": "[encoded data removed]",
      "text/plain": [
       "<Figure size 432x288 with 1 Axes>"
      ]
     },
     "metadata": {
      "needs_background": "light"
     },
     "output_type": "display_data"
    }
   ],
   "source": [
    "colors = [\"r\", \"g\", \"c\", \"b\", \"k\"]\n",
    "\n",
    "\n",
    "\n",
    "for c in res:\n",
    "\tcolor = colors[c]\n",
    "\tfor features in res[c]:\n",
    "\t\tplt.scatter(features[0], features[1], color = color,s = 30)\n",
    "\n",
    "\n",
    "for c in centr:\n",
    "    plt.scatter(c[0],c[1],marker = 'X',s = 150 ,color = 'm')\n",
    "        \n",
    "\n",
    "plt.show()\n"
   ]
  },
  {
   "cell_type": "code",
   "execution_count": 11,
   "metadata": {},
   "outputs": [],
   "source": [
    "#recursive Kmeans call for every partition in res\n",
    "for par in res:    \n",
    "    pi = res[par]\n",
    "    rec_kmeans(pi)\n",
    "    \n",
    "\n",
    "\n",
    "\n"
   ]
  },
  {
   "cell_type": "code",
   "execution_count": 12,
   "metadata": {},
   "outputs": [],
   "source": [
    "#calculating final centroids\n",
    "final_centroids = []\n",
    "for i in final_clusters:\n",
    "    final_centroids.append(np.average(i,axis = 0))\n",
    "\n"
   ]
  },
  {
   "cell_type": "code",
   "execution_count": 13,
   "metadata": {},
   "outputs": [
    {
     "data": {
      "image/png": "[encoded data removed]",
      "text/plain": [
       "<Figure size 432x288 with 1 Axes>"
      ]
     },
     "metadata": {
      "needs_background": "light"
     },
     "output_type": "display_data"
    }
   ],
   "source": [
    "#ploting final results\n",
    "\n",
    "for fea in final_clusters:\n",
    "    for k in fea:\n",
    "        plt.scatter(k[0], k[1], color = \"k\",s = 10)\n",
    "\n",
    "\n",
    "\n",
    "for cen in final_centroids:\n",
    "    plt.scatter(cen[0],cen[1],marker = \"X\",color = \"m\",s = 30)\n",
    "    \n",
    "   \n",
    "plt.show()"
   ]
  },
  {
   "cell_type": "code",
   "execution_count": 14,
   "metadata": {},
   "outputs": [
    {
     "data": {
      "image/png": "[encoded data removed]",
      "text/plain": [
       "<Figure size 936x576 with 1 Axes>"
      ]
     },
     "metadata": {
      "needs_background": "light"
     },
     "output_type": "display_data"
    }
   ],
   "source": [
    "dtf = [f'cluster{i}' for i in range(1,len(final_clusters) + 1)]\n",
    "dtfy = []\n",
    "for i in final_clusters:\n",
    "    lbl = set()\n",
    "    for j in i:\n",
    "        if(j[3] != -1):\n",
    "            lbl.add(int(j[3]))\n",
    "    \n",
    "    \n",
    "    dtfy.append(len(lbl))\n",
    "\n",
    "    \n",
    "plt.figure(figsize = (13,8))\n",
    "plt.bar(dtf,dtfy)\n",
    "plt.xticks(rotation = 60)\n",
    "plt.ylabel(\"No of class labels\")\n",
    "plt.show()"
   ]
  },
  {
   "cell_type": "code",
   "execution_count": 15,
   "metadata": {},
   "outputs": [],
   "source": [
    "results = pd.DataFrame(dtf,columns = ['Clusters'])\n",
    "no_of_points = []\n",
    "labelled = []\n",
    "unlabelled = []\n",
    "\n",
    "cluster_lbl = []\n",
    "\n",
    "for i in cluster_label:\n",
    "    cluster_lbl.append(int(list(i)[0]))\n",
    "    \n",
    "results['Label'] = cluster_lbl  \n",
    "    \n",
    "    \n",
    "for i in range(len(final_clusters)):\n",
    "    no_of_points.append(len(final_clusters[i]))\n",
    "    cl = 0\n",
    "    cu = 0\n",
    "    for j in final_clusters[i]:\n",
    "        if(j[3] == -1):\n",
    "            cu += 1\n",
    "        else:\n",
    "            cl += 1\n",
    "    \n",
    "    labelled.append(cl)\n",
    "    unlabelled.append(cu)\n",
    "\n",
    "results['Total_no_of_data'] = no_of_points\n",
    "results['No_of_ld'] = labelled\n",
    "results['No_of_ud'] = unlabelled"
   ]
  },
  {
   "cell_type": "code",
   "execution_count": 16,
   "metadata": {},
   "outputs": [
    {
     "name": "stdout",
     "output_type": "stream",
     "text": [
      "     Clusters  Label  Total_no_of_data  No_of_ld  No_of_ud\n",
      "0    cluster1      1                 2         2         0\n",
      "1    cluster2      2                26        20         6\n",
      "2    cluster3      2                12        10         2\n",
      "3    cluster4      1                12         9         3\n",
      "4    cluster5      2                 5         3         2\n",
      "5    cluster6      1                 1         1         0\n",
      "6    cluster7      2                 1         1         0\n",
      "7    cluster8      2                 3         2         1\n",
      "8    cluster9      1                 1         1         0\n",
      "9   cluster10      2                 1         1         0\n",
      "10  cluster11      1                 8         5         3\n",
      "11  cluster12      1                 9         5         4\n",
      "12  cluster13      1                14        12         2\n",
      "13  cluster14      1                 4         4         0\n",
      "14  cluster15      2                 1         1         0\n",
      "15  cluster16      0                50        40        10\n"
     ]
    }
   ],
   "source": [
    "print(results)"
   ]
  },
  {
   "cell_type": "code",
   "execution_count": 17,
   "metadata": {},
   "outputs": [
    {
     "data": {
      "image/png": "[encoded data removed]",
      "text/plain": [
       "<Figure size 936x576 with 1 Axes>"
      ]
     },
     "metadata": {
      "needs_background": "light"
     },
     "output_type": "display_data"
    }
   ],
   "source": [
    "plt.figure(figsize = (13,8))\n",
    "sns.barplot(x = 'Clusters',y = 'Total_no_of_data',hue = 'No_of_ld',data = results)\n",
    "plt.xticks(rotation = 60)\n",
    "plt.show()"
   ]
  },
  {
   "cell_type": "code",
   "execution_count": 18,
   "metadata": {},
   "outputs": [
    {
     "data": {
      "image/png": "[encoded data removed]",
      "text/plain": [
       "<Figure size 936x576 with 1 Axes>"
      ]
     },
     "metadata": {
      "needs_background": "light"
     },
     "output_type": "display_data"
    }
   ],
   "source": [
    "plt.figure(figsize = (13,8))\n",
    "sns.barplot(x = 'Clusters' , y = \"Total_no_of_data\",hue = 'No_of_ud',data = results)\n",
    "plt.xticks(rotation = 60)\n",
    "plt.show()"
   ]
  }
 ],
 "metadata": {
  "kernelspec": {
   "display_name": "Python 3",
   "language": "python",
   "name": "python3"
  },
  "language_info": {
   "codemirror_mode": {
    "name": "ipython",
    "version": 3
   },
   "file_extension": ".py",
   "mimetype": "text/x-python",
   "name": "python",
   "nbconvert_exporter": "python",
   "pygments_lexer": "ipython3",
   "version": "3.6.6"
  }
 },
 "nbformat": 4,
 "nbformat_minor": 1
}
